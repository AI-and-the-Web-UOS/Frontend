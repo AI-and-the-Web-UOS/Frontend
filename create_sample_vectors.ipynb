{
 "cells": [
  {
   "cell_type": "code",
   "execution_count": 1,
   "metadata": {},
   "outputs": [
    {
     "name": "stderr",
     "output_type": "stream",
     "text": [
      "/Users/cowolff/miniconda3/envs/web-AI/lib/python3.10/site-packages/tqdm/auto.py:21: TqdmWarning: IProgress not found. Please update jupyter and ipywidgets. See https://ipywidgets.readthedocs.io/en/stable/user_install.html\n",
      "  from .autonotebook import tqdm as notebook_tqdm\n"
     ]
    }
   ],
   "source": [
    "from pymongo import MongoClient\n",
    "from datetime import datetime\n",
    "import random\n",
    "import string\n",
    "from sent2vec.vectorizer import Vectorizer"
   ]
  },
  {
   "cell_type": "code",
   "execution_count": 2,
   "metadata": {},
   "outputs": [],
   "source": [
    "def search_embedding(search_term):\n",
    "    \"\"\"\n",
    "    Embeds the given search term using Sent2Vec vectorization.\n",
    "\n",
    "    :param search_term: The search term to be embedded.\n",
    "    :return: The vector representation of the search term.\n",
    "    \"\"\"\n",
    "\n",
    "    vectorizer = Vectorizer()  # Create a Sent2Vec Vectorizer\n",
    "    vectorizer.run([search_term])  # Run the vectorization process on the given search term\n",
    "    return vectorizer.vectors[0].tolist()  # Retrieve the vector representation of the search term"
   ]
  },
  {
   "cell_type": "code",
   "execution_count": 4,
   "metadata": {},
   "outputs": [],
   "source": [
    "def generate_random_string(length):\n",
    "    letters = string.ascii_lowercase\n",
    "    return ''.join(random.choice(letters) for _ in range(length))\n",
    "\n",
    "def generate_sample_data():\n",
    "    titles = [\"Python\", \"MongoDB\", \"Web Development\", \"Machine Learning\", \"Data Science\"]\n",
    "    content = \" \".join([\"Lorem ipsum\"] * random.randint(5, 10))\n",
    "    \n",
    "    return {\n",
    "        \"title\": random.choice(titles),\n",
    "        \"content\": content,\n",
    "        \"added\": datetime.utcnow(),\n",
    "        \"url\": f\"http://{generate_random_string(8)}.com\",\n",
    "        \"vector\": search_embedding(random.choice(titles)),\n",
    "        \"relevance\": random.uniform(0, 1)\n",
    "    }\n",
    "\n",
    "def insert_sample_data(database_name, collection_name, num_records):\n",
    "    client = MongoClient(\"mongodb://127.0.0.1:27017/?directConnection=true&serverSelectionTimeoutMS=2000&appName=mongosh+2.0.2\")\n",
    "    db = client[database_name]\n",
    "    collection = db[collection_name]\n",
    "\n",
    "    for _ in range(num_records):\n",
    "        data = generate_sample_data()\n",
    "        collection.insert_one(data)"
   ]
  },
  {
   "cell_type": "code",
   "execution_count": 5,
   "metadata": {},
   "outputs": [
    {
     "name": "stdout",
     "output_type": "stream",
     "text": [
      "Initializing Bert distilbert-base-uncased\n",
      "Vectorization done on cpu\n",
      "Initializing Bert distilbert-base-uncased\n",
      "Vectorization done on cpu\n",
      "Initializing Bert distilbert-base-uncased\n",
      "Vectorization done on cpu\n",
      "Initializing Bert distilbert-base-uncased\n",
      "Vectorization done on cpu\n",
      "Initializing Bert distilbert-base-uncased\n",
      "Vectorization done on cpu\n",
      "Initializing Bert distilbert-base-uncased\n",
      "Vectorization done on cpu\n",
      "Initializing Bert distilbert-base-uncased\n",
      "Vectorization done on cpu\n",
      "Initializing Bert distilbert-base-uncased\n",
      "Vectorization done on cpu\n",
      "Initializing Bert distilbert-base-uncased\n",
      "Vectorization done on cpu\n",
      "Initializing Bert distilbert-base-uncased\n",
      "Vectorization done on cpu\n",
      "10 sample records inserted into the 'Website' collection.\n"
     ]
    }
   ],
   "source": [
    "# Specify the MongoDB database and collection names\n",
    "database_name = \"searchDatabase\"\n",
    "collection_name = \"Website\"\n",
    "\n",
    "# Specify the number of sample records to insert\n",
    "num_records = 10\n",
    "\n",
    "# Insert sample data into the MongoDB collection\n",
    "insert_sample_data(database_name, collection_name, num_records)\n",
    "\n",
    "print(f\"{num_records} sample records inserted into the '{collection_name}' collection.\")"
   ]
  }
 ],
 "metadata": {
  "kernelspec": {
   "display_name": "web-AI",
   "language": "python",
   "name": "python3"
  },
  "language_info": {
   "codemirror_mode": {
    "name": "ipython",
    "version": 3
   },
   "file_extension": ".py",
   "mimetype": "text/x-python",
   "name": "python",
   "nbconvert_exporter": "python",
   "pygments_lexer": "ipython3",
   "version": "3.10.13"
  }
 },
 "nbformat": 4,
 "nbformat_minor": 2
}
