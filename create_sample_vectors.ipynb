{
 "cells": [
  {
   "cell_type": "code",
   "execution_count": 1,
   "metadata": {
    "ExecuteTime": {
     "end_time": "2023-11-14T20:42:22.591913Z",
     "start_time": "2023-11-14T20:42:20.783656Z"
    }
   },
   "outputs": [],
   "source": [
    "from pymongo import MongoClient\n",
    "from datetime import datetime\n",
    "import random\n",
    "import string\n",
    "from sent2vec.vectorizer import Vectorizer"
   ]
  },
  {
   "cell_type": "code",
   "execution_count": 2,
   "metadata": {
    "ExecuteTime": {
     "end_time": "2023-11-14T20:42:24.476751Z",
     "start_time": "2023-11-14T20:42:24.459910Z"
    }
   },
   "outputs": [],
   "source": [
    "def search_embedding(search_term):\n",
    "    \"\"\"\n",
    "    Embeds the given search term using Sent2Vec vectorization.\n",
    "\n",
    "    :param search_term: The search term to be embedded.\n",
    "    :return: The vector representation of the search term.\n",
    "    \"\"\"\n",
    "\n",
    "    vectorizer = Vectorizer()  # Create a Sent2Vec Vectorizer\n",
    "    vectorizer.run([search_term])  # Run the vectorization process on the given search term\n",
    "    return vectorizer.vectors[0].tolist()  # Retrieve the vector representation of the search term"
   ]
  },
  {
   "cell_type": "code",
   "execution_count": 3,
   "metadata": {
    "ExecuteTime": {
     "end_time": "2023-11-14T20:42:25.133389Z",
     "start_time": "2023-11-14T20:42:25.122499Z"
    }
   },
   "outputs": [],
   "source": [
    "def generate_random_string(length):\n",
    "    letters = string.ascii_lowercase\n",
    "    return ''.join(random.choice(letters) for _ in range(length))\n",
    "\n",
    "def generate_sample_data(index):\n",
    "    titles = [\"Python\", \"Mongo\", \"Web Development\", \"Machine Learning\", \"Data Science\", \"Test\"]\n",
    "    content = \" \".join([\"Lorem ipsum\"] * random.randint(5, 10))\n",
    "    \n",
    "    return {\n",
    "        \"title\": titles[index],\n",
    "        \"content\": content,\n",
    "        \"added\": datetime.utcnow(),\n",
    "        \"url\": f\"http://{generate_random_string(8)}.com\",\n",
    "        \"vector\": search_embedding(titles[index]),\n",
    "        \"relevance\": random.uniform(0, 1)\n",
    "    }\n",
    "\n",
    "def insert_sample_data(database_name, collection_name, num_records):\n",
    "    client = MongoClient(\"mongodb://127.0.0.1:27017/?directConnection=true&serverSelectionTimeoutMS=2000&appName=mongosh+2.0.2\")\n",
    "    db = client[database_name]\n",
    "    collection = db[collection_name]\n",
    "\n",
    "    for i in range(num_records):\n",
    "        data = generate_sample_data(i)\n",
    "        collection.insert_one(data)"
   ]
  },
  {
   "cell_type": "code",
   "execution_count": 4,
   "metadata": {
    "ExecuteTime": {
     "end_time": "2023-11-14T20:42:32.272273Z",
     "start_time": "2023-11-14T20:42:25.804239Z"
    }
   },
   "outputs": [
    {
     "name": "stdout",
     "output_type": "stream",
     "text": [
      "Initializing Bert distilbert-base-uncased\n",
      "Vectorization done on cpu\n",
      "Initializing Bert distilbert-base-uncased\n",
      "Vectorization done on cpu\n",
      "Initializing Bert distilbert-base-uncased\n",
      "Vectorization done on cpu\n",
      "Initializing Bert distilbert-base-uncased\n",
      "Vectorization done on cpu\n",
      "Initializing Bert distilbert-base-uncased\n",
      "Vectorization done on cpu\n",
      "Initializing Bert distilbert-base-uncased\n",
      "Vectorization done on cpu\n",
      "6 sample records inserted into the 'Website' collection.\n"
     ]
    }
   ],
   "source": [
    "# Specify the MongoDB database and collection names\n",
    "database_name = \"searchDatabase\"\n",
    "collection_name = \"Website\"\n",
    "\n",
    "# Specify the number of sample records to insert\n",
    "num_records = 6\n",
    "\n",
    "# Insert sample data into the MongoDB collection\n",
    "insert_sample_data(database_name, collection_name, num_records)\n",
    "\n",
    "print(f\"{num_records} sample records inserted into the '{collection_name}' collection.\")"
   ]
  },
  {
   "cell_type": "code",
   "execution_count": null,
   "outputs": [],
   "source": [],
   "metadata": {
    "collapsed": false
   }
  }
 ],
 "metadata": {
  "kernelspec": {
   "display_name": "web-AI",
   "language": "python",
   "name": "python3"
  },
  "language_info": {
   "codemirror_mode": {
    "name": "ipython",
    "version": 3
   },
   "file_extension": ".py",
   "mimetype": "text/x-python",
   "name": "python",
   "nbconvert_exporter": "python",
   "pygments_lexer": "ipython3",
   "version": "3.10.13"
  }
 },
 "nbformat": 4,
 "nbformat_minor": 2
}
